{
 "cells": [
  {
   "cell_type": "code",
   "execution_count": 5,
   "id": "6975894f",
   "metadata": {},
   "outputs": [
    {
     "ename": "ModuleNotFoundError",
     "evalue": "No module named 'your_file_name'",
     "output_type": "error",
     "traceback": [
      "\u001b[1;31m---------------------------------------------------------------------------\u001b[0m",
      "\u001b[1;31mModuleNotFoundError\u001b[0m                       Traceback (most recent call last)",
      "Input \u001b[1;32mIn [5]\u001b[0m, in \u001b[0;36m<cell line: 2>\u001b[1;34m()\u001b[0m\n\u001b[0;32m      1\u001b[0m \u001b[38;5;28;01mimport\u001b[39;00m \u001b[38;5;21;01munittest\u001b[39;00m\n\u001b[1;32m----> 2\u001b[0m \u001b[38;5;28;01mfrom\u001b[39;00m \u001b[38;5;21;01myour_file_name\u001b[39;00m \u001b[38;5;28;01mimport\u001b[39;00m short_analyse, ans\n\u001b[0;32m      4\u001b[0m \u001b[38;5;28;01mclass\u001b[39;00m \u001b[38;5;21;01mPaperSimilarityTestCase\u001b[39;00m(unittest\u001b[38;5;241m.\u001b[39mTestCase):\n\u001b[0;32m      5\u001b[0m     \u001b[38;5;28;01mdef\u001b[39;00m \u001b[38;5;21msetUp\u001b[39m(\u001b[38;5;28mself\u001b[39m):\n",
      "\u001b[1;31mModuleNotFoundError\u001b[0m: No module named 'your_file_name'"
     ]
    }
   ],
   "source": [
    "import unittest\n",
    "from your_file_name import short_analyse, ans\n",
    "\n",
    "class PaperSimilarityTestCase(unittest.TestCase):\n",
    "    def setUp(self):\n",
    "        self.original_file = 'orig.txt'\n",
    "        self.copied_file = 'orig_0.8_add.txt'\n",
    "    \n",
    "    def test_short_analyse(self):\n",
    "        # Call the short_analyse function\n",
    "        short_analyse(self.original_file, self.copied_file)\n",
    "        \n",
    "        # Additional assertions if needed\n",
    "        # ...\n",
    "    \n",
    "    def test_ans(self):\n",
    "        # Call the ans function\n",
    "        similarity = ans(self.original_file, self.copied_file)\n",
    "        \n",
    "        # Perform assertions to verify the expected similarity value\n",
    "        expected_similarity = 80  # Assuming the expected similarity is 80%\n",
    "        self.assertEqual(similarity, expected_similarity, \n",
    "            \"The calculated similarity doesn't match the expected value.\")\n",
    "\n",
    "# Manually create a TestSuite and add the test cases\n",
    "suite = unittest.TestSuite()\n",
    "suite.addTest(PaperSimilarityTestCase('test_short_analyse'))\n",
    "suite.addTest(PaperSimilarityTestCase('test_ans'))\n",
    "\n",
    "# Create a test runner\n",
    "runner = unittest.TextTestRunner()\n",
    "# Run the tests\n",
    "result = runner.run(suite)"
   ]
  },
  {
   "cell_type": "code",
   "execution_count": 6,
   "id": "14a9489c",
   "metadata": {},
   "outputs": [
    {
     "ename": "NameError",
     "evalue": "name 'your_file_name' is not defined",
     "output_type": "error",
     "traceback": [
      "\u001b[1;31m---------------------------------------------------------------------------\u001b[0m",
      "\u001b[1;31mNameError\u001b[0m                                 Traceback (most recent call last)",
      "Input \u001b[1;32mIn [6]\u001b[0m, in \u001b[0;36m<cell line: 5>\u001b[1;34m()\u001b[0m\n\u001b[0;32m      2\u001b[0m \u001b[38;5;28;01mimport\u001b[39;00m \u001b[38;5;21;01mos\u001b[39;00m\n\u001b[0;32m      4\u001b[0m \u001b[38;5;66;03m# 获取当前脚本所在的目录\u001b[39;00m\n\u001b[1;32m----> 5\u001b[0m script_dir \u001b[38;5;241m=\u001b[39m os\u001b[38;5;241m.\u001b[39mpath\u001b[38;5;241m.\u001b[39mdirname(os\u001b[38;5;241m.\u001b[39mpath\u001b[38;5;241m.\u001b[39mabspath(\u001b[43myour_file_name\u001b[49m))\n\u001b[0;32m      7\u001b[0m \u001b[38;5;66;03m# 将模块所在的目录添加到sys.path\u001b[39;00m\n\u001b[0;32m      8\u001b[0m module_dir \u001b[38;5;241m=\u001b[39m os\u001b[38;5;241m.\u001b[39mpath\u001b[38;5;241m.\u001b[39mjoin(script_dir, \u001b[38;5;124m'\u001b[39m\u001b[38;5;124m200305\u001b[39m\u001b[38;5;124m'\u001b[39m)\n",
      "\u001b[1;31mNameError\u001b[0m: name 'your_file_name' is not defined"
     ]
    }
   ],
   "source": [
    "import sys\n",
    "import os\n",
    "\n",
    "# 获取当前脚本所在的目录\n",
    "script_dir = os.path.dirname(os.path.abspath(your_file_name))\n",
    "\n",
    "# 将模块所在的目录添加到sys.path\n",
    "module_dir = os.path.join(script_dir, '200305')\n",
    "sys.path.append(module_dir)"
   ]
  },
  {
   "cell_type": "code",
   "execution_count": null,
   "id": "6444b109",
   "metadata": {},
   "outputs": [],
   "source": []
  }
 ],
 "metadata": {
  "kernelspec": {
   "display_name": "Python 3 (ipykernel)",
   "language": "python",
   "name": "python3"
  },
  "language_info": {
   "codemirror_mode": {
    "name": "ipython",
    "version": 3
   },
   "file_extension": ".py",
   "mimetype": "text/x-python",
   "name": "python",
   "nbconvert_exporter": "python",
   "pygments_lexer": "ipython3",
   "version": "3.9.12"
  }
 },
 "nbformat": 4,
 "nbformat_minor": 5
}
